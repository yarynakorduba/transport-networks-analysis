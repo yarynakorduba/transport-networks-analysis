{
 "cells": [
  {
   "cell_type": "code",
   "execution_count": 55,
   "metadata": {
    "collapsed": true
   },
   "outputs": [],
   "source": [
    "import json\n",
    "from convertbng.util import convert_bng, convert_lonlat"
   ]
  },
  {
   "cell_type": "code",
   "execution_count": 61,
   "metadata": {
    "collapsed": true
   },
   "outputs": [],
   "source": [
    "VEHICLE_TYPE = \"Coach\""
   ]
  },
  {
   "cell_type": "code",
   "execution_count": 62,
   "metadata": {
    "collapsed": false
   },
   "outputs": [],
   "source": [
    "with open('../../data/initial_datasets/bristol' + VEHICLE_TYPE +'FullInitialDataset.json', 'r') as file:\n",
    "    data = json.loads(file.read())  "
   ]
  },
  {
   "cell_type": "code",
   "execution_count": 63,
   "metadata": {
    "collapsed": false
   },
   "outputs": [],
   "source": [
    "def create_stops_dataset(data):\n",
    "    stops = data[\"locations\"]\n",
    "    journeys = data[\"journeys\"]\n",
    "    parsed_stops = {}\n",
    "    for stop in stops:\n",
    "        stop_gps_coords = convert_lonlat([int(stop[\"easting\"])],[int(stop[\"northing\"])])\n",
    "        parsed_stops[stop[\"location\"]] = {\n",
    "                \"id\": stop[\"location\"].strip(),\n",
    "                \"label\": stop[\"name\"],\n",
    "                \"lon\": stop_gps_coords[0][0],\n",
    "                \"lat\": stop_gps_coords[1][0],\n",
    "                \"stationType\": [VEHICLE_TYPE.lower()],\n",
    "                \"routes\": [],\n",
    "                \"connections\": []\n",
    "        }\n",
    "    #classic version for adding connections in stopsData\n",
    "    for key, journey in journeys.items():\n",
    "        for stop_id in range(0, len(journey[\"stops\"])):\n",
    "            connections = []\n",
    "            current_stop = parsed_stops[journey[\"stops\"][stop_id][\"location\"].strip()]\n",
    "\n",
    "            current_stop[\"routes\"] =\\\n",
    "            list({*current_stop[\"routes\"], journey[\"route_number\"].strip()})\n",
    "\n",
    "            if stop_id > 0:\n",
    "                connections.append(journey[\"stops\"][stop_id-1][\"location\"])\n",
    "            if stop_id < len(journey[\"stops\"])-1:\n",
    "                connections.append(journey[\"stops\"][stop_id+1][\"location\"])\n",
    "            current_stop[\"connections\"] = [connection.strip() for connection\\\n",
    "                                           in list(filter(lambda x: x != current_stop[\"id\"], \\\n",
    "                                                      {*current_stop[\"connections\"], *connections}))]\n",
    "    return list(parsed_stops.values())"
   ]
  },
  {
   "cell_type": "code",
   "execution_count": 64,
   "metadata": {
    "collapsed": true
   },
   "outputs": [],
   "source": [
    "#classic version for creation of routesData\n",
    "def create_routes_dataset(data):\n",
    "    journeys = data[\"journeys\"]\n",
    "    parsed_routes = []\n",
    "    for key, journey in journeys.items():\n",
    "        parsed_routes.append({\n",
    "                \"id\": journey[\"route_number\"].strip(),\n",
    "                \"direction\": journey[\"route_direction\"],\n",
    "                \"routeName\": journey[\"route_number\"].strip(),\n",
    "                \"stops\": [stop[\"location\"].strip() for stop in journey[\"stops\"]],\n",
    "                \"bankHolidays\": journey[\"bank_holidays\"],\n",
    "                \"routeType\": VEHICLE_TYPE.lower()\n",
    "            })\n",
    "    return parsed_routes"
   ]
  },
  {
   "cell_type": "code",
   "execution_count": 65,
   "metadata": {
    "collapsed": false
   },
   "outputs": [],
   "source": [
    "with open('../../data/bristol_parsed/initial/bristol'+VEHICLE_TYPE+'Stops.json', 'w') as outfile:  \n",
    "    json.dump(create_stops_dataset(data), outfile)\n",
    "with open('../../data/bristol_parsed/initial/bristol'+VEHICLE_TYPE+'Routes.json', 'w') as outfile:  \n",
    "    json.dump(create_routes_dataset(data), outfile)"
   ]
  },
  {
   "cell_type": "code",
   "execution_count": null,
   "metadata": {
    "collapsed": true
   },
   "outputs": [],
   "source": []
  },
  {
   "cell_type": "code",
   "execution_count": null,
   "metadata": {
    "collapsed": true
   },
   "outputs": [],
   "source": []
  }
 ],
 "metadata": {
  "kernelspec": {
   "display_name": "Python 3",
   "language": "python",
   "name": "python3"
  },
  "language_info": {
   "codemirror_mode": {
    "name": "ipython",
    "version": 3
   },
   "file_extension": ".py",
   "mimetype": "text/x-python",
   "name": "python",
   "nbconvert_exporter": "python",
   "pygments_lexer": "ipython3",
   "version": "3.5.6"
  }
 },
 "nbformat": 4,
 "nbformat_minor": 0
}
