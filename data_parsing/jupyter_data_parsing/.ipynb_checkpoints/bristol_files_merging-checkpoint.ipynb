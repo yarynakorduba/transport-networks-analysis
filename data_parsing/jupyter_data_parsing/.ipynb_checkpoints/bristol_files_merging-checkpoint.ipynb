{
 "cells": [
  {
   "cell_type": "code",
   "execution_count": 1,
   "metadata": {
    "collapsed": true
   },
   "outputs": [],
   "source": [
    "import json\n",
    "import re"
   ]
  },
  {
   "cell_type": "code",
   "execution_count": 2,
   "metadata": {
    "collapsed": true
   },
   "outputs": [],
   "source": [
    "def add_routes_to_stop_in_file(file_with_stops, file_with_everything):\n",
    "    with open(file_with_everything, \"r\") as file_with_everything:\n",
    "        all_data = file_with_everything.read()\n",
    "    with open(file_with_stops, \"r\") as file_with_stops:\n",
    "        stops_data = file_with_stops.read()\n",
    "    stops_parsed_data = json.loads(stops_data)\n",
    "    stops_merged_data = []\n",
    "    for stop_id in range(0, len(stops_parsed_data)):\n",
    "        pattern = r'\\bQS[A-Za-z0-9\\-^\\s ]*?Q[A-Z ]' + str(stops_parsed_data[stop_id]['id'])\n",
    "        parsed_routes = [line[37:41] for line in re.findall(pattern, all_data)]\n",
    "        print(parsed_routes)\n",
    "        stops_merged_data.append(stops_parsed_data[stop_id].update({\"routes\": parsed_routes}))\n",
    "    return stops_merged_data"
   ]
  },
  {
   "cell_type": "code",
   "execution_count": 3,
   "metadata": {
    "collapsed": false
   },
   "outputs": [
    {
     "ename": "FileNotFoundError",
     "evalue": "[Errno 2] No such file or directory: 'data/bristol_BUS_stops_times.CIF'",
     "output_type": "error",
     "traceback": [
      "\u001b[1;31m---------------------------------------------------------------------------\u001b[0m",
      "\u001b[1;31mFileNotFoundError\u001b[0m                         Traceback (most recent call last)",
      "\u001b[1;32m<ipython-input-3-ceb5c44c52b1>\u001b[0m in \u001b[0;36m<module>\u001b[1;34m()\u001b[0m\n\u001b[1;32m----> 1\u001b[1;33m \u001b[0mstops_merged_data\u001b[0m \u001b[1;33m=\u001b[0m \u001b[0madd_routes_to_stop_in_file\u001b[0m\u001b[1;33m(\u001b[0m\u001b[1;34m\"bristolBusStops.json\"\u001b[0m\u001b[1;33m,\u001b[0m \u001b[1;34m\"data/bristol_BUS_stops_times.CIF\"\u001b[0m\u001b[1;33m)\u001b[0m\u001b[1;33m\u001b[0m\u001b[0m\n\u001b[0m",
      "\u001b[1;32m<ipython-input-2-dd6442141917>\u001b[0m in \u001b[0;36madd_routes_to_stop_in_file\u001b[1;34m(file_with_stops, file_with_everything)\u001b[0m\n\u001b[0;32m      1\u001b[0m \u001b[1;32mdef\u001b[0m \u001b[0madd_routes_to_stop_in_file\u001b[0m\u001b[1;33m(\u001b[0m\u001b[0mfile_with_stops\u001b[0m\u001b[1;33m,\u001b[0m \u001b[0mfile_with_everything\u001b[0m\u001b[1;33m)\u001b[0m\u001b[1;33m:\u001b[0m\u001b[1;33m\u001b[0m\u001b[0m\n\u001b[1;32m----> 2\u001b[1;33m     \u001b[1;32mwith\u001b[0m \u001b[0mopen\u001b[0m\u001b[1;33m(\u001b[0m\u001b[0mfile_with_everything\u001b[0m\u001b[1;33m,\u001b[0m \u001b[1;34m\"r\"\u001b[0m\u001b[1;33m)\u001b[0m \u001b[1;32mas\u001b[0m \u001b[0mfile_with_everything\u001b[0m\u001b[1;33m:\u001b[0m\u001b[1;33m\u001b[0m\u001b[0m\n\u001b[0m\u001b[0;32m      3\u001b[0m         \u001b[0mall_data\u001b[0m \u001b[1;33m=\u001b[0m \u001b[0mfile_with_everything\u001b[0m\u001b[1;33m.\u001b[0m\u001b[0mread\u001b[0m\u001b[1;33m(\u001b[0m\u001b[1;33m)\u001b[0m\u001b[1;33m\u001b[0m\u001b[0m\n\u001b[0;32m      4\u001b[0m     \u001b[1;32mwith\u001b[0m \u001b[0mopen\u001b[0m\u001b[1;33m(\u001b[0m\u001b[0mfile_with_stops\u001b[0m\u001b[1;33m,\u001b[0m \u001b[1;34m\"r\"\u001b[0m\u001b[1;33m)\u001b[0m \u001b[1;32mas\u001b[0m \u001b[0mfile_with_stops\u001b[0m\u001b[1;33m:\u001b[0m\u001b[1;33m\u001b[0m\u001b[0m\n\u001b[0;32m      5\u001b[0m         \u001b[0mstops_data\u001b[0m \u001b[1;33m=\u001b[0m \u001b[0mfile_with_stops\u001b[0m\u001b[1;33m.\u001b[0m\u001b[0mread\u001b[0m\u001b[1;33m(\u001b[0m\u001b[1;33m)\u001b[0m\u001b[1;33m\u001b[0m\u001b[0m\n",
      "\u001b[1;31mFileNotFoundError\u001b[0m: [Errno 2] No such file or directory: 'data/bristol_BUS_stops_times.CIF'"
     ]
    }
   ],
   "source": [
    "stops_merged_data = add_routes_to_stop_in_file(\"bristolBusStops.json\", \"./data/bristol_BUS_stops_times.CIF\")"
   ]
  },
  {
   "cell_type": "code",
   "execution_count": null,
   "metadata": {
    "collapsed": true
   },
   "outputs": [],
   "source": []
  }
 ],
 "metadata": {
  "kernelspec": {
   "display_name": "Python 3",
   "language": "python",
   "name": "python3"
  },
  "language_info": {
   "codemirror_mode": {
    "name": "ipython",
    "version": 3
   },
   "file_extension": ".py",
   "mimetype": "text/x-python",
   "name": "python",
   "nbconvert_exporter": "python",
   "pygments_lexer": "ipython3",
   "version": "3.5.6"
  }
 },
 "nbformat": 4,
 "nbformat_minor": 0
}
