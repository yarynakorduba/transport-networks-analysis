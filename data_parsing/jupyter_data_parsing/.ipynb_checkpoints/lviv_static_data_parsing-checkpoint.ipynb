{
 "cells": [
  {
   "cell_type": "code",
   "execution_count": 2,
   "metadata": {
    "collapsed": true
   },
   "outputs": [],
   "source": [
    "import pandas as pd"
   ]
  },
  {
   "cell_type": "code",
   "execution_count": 3,
   "metadata": {
    "collapsed": false
   },
   "outputs": [],
   "source": [
    "stop_times = pd.read_csv(\"../data/lviv_static_data/stop_times_with_route_ids.csv\", encoding=\"utf-8\", sep=\",\", \\\n",
    "                         header=0, low_memory=False)"
   ]
  },
  {
   "cell_type": "code",
   "execution_count": 4,
   "metadata": {
    "collapsed": true
   },
   "outputs": [],
   "source": [
    "trips = pd.read_csv(\"../data/lviv_static_data/trips.csv\", encoding=\"utf-8\", sep=\",\", \\\n",
    "                         header=0, low_memory=False)"
   ]
  },
  {
   "cell_type": "code",
   "execution_count": 8,
   "metadata": {
    "collapsed": false
   },
   "outputs": [],
   "source": [
    "stops = pd.read_csv(\"../data/lviv_static_data/stops.csv\", encoding=\"utf-8\", sep=\",\", \\\n",
    "                    header=0, low_memory=False)"
   ]
  },
  {
   "cell_type": "code",
   "execution_count": 9,
   "metadata": {
    "collapsed": false
   },
   "outputs": [],
   "source": [
    "def add_stop_info_based_on_stop_id(stop_id, name_of_column_to_retrieve):\n",
    "    return stops[stops['stop_id'] == stop_id][name_of_column_to_retrieve].values[0]"
   ]
  },
  {
   "cell_type": "code",
   "execution_count": 10,
   "metadata": {
    "collapsed": true
   },
   "outputs": [],
   "source": [
    "def add_trip_info_based_on_trip_id(trip_id, name_of_column_to_retrieve):\n",
    "    return trips[trips['trip_id'] == trip_id][name_of_column_to_retrieve].values[0]"
   ]
  },
  {
   "cell_type": "code",
   "execution_count": null,
   "metadata": {
    "collapsed": false
   },
   "outputs": [],
   "source": [
    "stop_lat = []\n",
    "stop_lon = []\n",
    "for index, row in stop_times.iterrows():\n",
    "    stop_lat.append(add_stop_info_based_on_stop_id(stop_times[\"stop_id\"][index], \"stop_lat\"))\n",
    "    stop_lon.append(add_stop_info_based_on_stop_id(stop_times[\"stop_id\"][index], \"stop_lon\"))"
   ]
  },
  {
   "cell_type": "code",
   "execution_count": 8,
   "metadata": {
    "collapsed": false
   },
   "outputs": [
    {
     "ename": "KeyboardInterrupt",
     "evalue": "",
     "output_type": "error",
     "traceback": [
      "\u001b[1;31m---------------------------------------------------------------------------\u001b[0m",
      "\u001b[1;31mKeyboardInterrupt\u001b[0m                         Traceback (most recent call last)",
      "\u001b[1;32m<ipython-input-8-6daddd67743a>\u001b[0m in \u001b[0;36m<module>\u001b[1;34m()\u001b[0m\n\u001b[0;32m      1\u001b[0m \u001b[0mstop_lon\u001b[0m \u001b[1;33m=\u001b[0m \u001b[1;33m[\u001b[0m\u001b[1;33m]\u001b[0m\u001b[1;33m\u001b[0m\u001b[0m\n\u001b[0;32m      2\u001b[0m \u001b[1;32mfor\u001b[0m \u001b[0mindex\u001b[0m\u001b[1;33m,\u001b[0m \u001b[0mrow\u001b[0m \u001b[1;32min\u001b[0m \u001b[0mstop_times\u001b[0m\u001b[1;33m.\u001b[0m\u001b[0miterrows\u001b[0m\u001b[1;33m(\u001b[0m\u001b[1;33m)\u001b[0m\u001b[1;33m:\u001b[0m\u001b[1;33m\u001b[0m\u001b[0m\n\u001b[1;32m----> 3\u001b[1;33m     \u001b[0mstop_lon\u001b[0m\u001b[1;33m.\u001b[0m\u001b[0mappend\u001b[0m\u001b[1;33m(\u001b[0m\u001b[0madd_stop_info_based_on_stop_id\u001b[0m\u001b[1;33m(\u001b[0m\u001b[0mstop_times\u001b[0m\u001b[1;33m[\u001b[0m\u001b[1;34m\"stop_id\"\u001b[0m\u001b[1;33m]\u001b[0m\u001b[1;33m[\u001b[0m\u001b[0mindex\u001b[0m\u001b[1;33m]\u001b[0m\u001b[1;33m,\u001b[0m \u001b[1;34m\"stop_lon\"\u001b[0m\u001b[1;33m)\u001b[0m\u001b[1;33m)\u001b[0m\u001b[1;33m\u001b[0m\u001b[0m\n\u001b[0m",
      "\u001b[1;32m<ipython-input-4-e3b970ccc1a5>\u001b[0m in \u001b[0;36madd_stop_info_based_on_stop_id\u001b[1;34m(stop_id, name_of_column_to_retrieve)\u001b[0m\n\u001b[0;32m      1\u001b[0m \u001b[1;32mdef\u001b[0m \u001b[0madd_stop_info_based_on_stop_id\u001b[0m\u001b[1;33m(\u001b[0m\u001b[0mstop_id\u001b[0m\u001b[1;33m,\u001b[0m \u001b[0mname_of_column_to_retrieve\u001b[0m\u001b[1;33m)\u001b[0m\u001b[1;33m:\u001b[0m\u001b[1;33m\u001b[0m\u001b[0m\n\u001b[1;32m----> 2\u001b[1;33m     \u001b[1;32mreturn\u001b[0m \u001b[0mstops\u001b[0m\u001b[1;33m[\u001b[0m\u001b[0mstops\u001b[0m\u001b[1;33m[\u001b[0m\u001b[1;34m'stop_id'\u001b[0m\u001b[1;33m]\u001b[0m \u001b[1;33m==\u001b[0m \u001b[0mstop_id\u001b[0m\u001b[1;33m]\u001b[0m\u001b[1;33m[\u001b[0m\u001b[0mname_of_column_to_retrieve\u001b[0m\u001b[1;33m]\u001b[0m\u001b[1;33m.\u001b[0m\u001b[0mvalues\u001b[0m\u001b[1;33m[\u001b[0m\u001b[1;36m0\u001b[0m\u001b[1;33m]\u001b[0m\u001b[1;33m\u001b[0m\u001b[0m\n\u001b[0m",
      "\u001b[1;32mC:\\Users\\cs.ucu.edu.ua\\Anaconda3\\lib\\site-packages\\pandas\\core\\frame.py\u001b[0m in \u001b[0;36m__getitem__\u001b[1;34m(self, key)\u001b[0m\n\u001b[0;32m   2680\u001b[0m         \u001b[1;32mif\u001b[0m \u001b[0misinstance\u001b[0m\u001b[1;33m(\u001b[0m\u001b[0mkey\u001b[0m\u001b[1;33m,\u001b[0m \u001b[1;33m(\u001b[0m\u001b[0mSeries\u001b[0m\u001b[1;33m,\u001b[0m \u001b[0mnp\u001b[0m\u001b[1;33m.\u001b[0m\u001b[0mndarray\u001b[0m\u001b[1;33m,\u001b[0m \u001b[0mIndex\u001b[0m\u001b[1;33m,\u001b[0m \u001b[0mlist\u001b[0m\u001b[1;33m)\u001b[0m\u001b[1;33m)\u001b[0m\u001b[1;33m:\u001b[0m\u001b[1;33m\u001b[0m\u001b[0m\n\u001b[0;32m   2681\u001b[0m             \u001b[1;31m# either boolean or fancy integer index\u001b[0m\u001b[1;33m\u001b[0m\u001b[1;33m\u001b[0m\u001b[0m\n\u001b[1;32m-> 2682\u001b[1;33m             \u001b[1;32mreturn\u001b[0m \u001b[0mself\u001b[0m\u001b[1;33m.\u001b[0m\u001b[0m_getitem_array\u001b[0m\u001b[1;33m(\u001b[0m\u001b[0mkey\u001b[0m\u001b[1;33m)\u001b[0m\u001b[1;33m\u001b[0m\u001b[0m\n\u001b[0m\u001b[0;32m   2683\u001b[0m         \u001b[1;32melif\u001b[0m \u001b[0misinstance\u001b[0m\u001b[1;33m(\u001b[0m\u001b[0mkey\u001b[0m\u001b[1;33m,\u001b[0m \u001b[0mDataFrame\u001b[0m\u001b[1;33m)\u001b[0m\u001b[1;33m:\u001b[0m\u001b[1;33m\u001b[0m\u001b[0m\n\u001b[0;32m   2684\u001b[0m             \u001b[1;32mreturn\u001b[0m \u001b[0mself\u001b[0m\u001b[1;33m.\u001b[0m\u001b[0m_getitem_frame\u001b[0m\u001b[1;33m(\u001b[0m\u001b[0mkey\u001b[0m\u001b[1;33m)\u001b[0m\u001b[1;33m\u001b[0m\u001b[0m\n",
      "\u001b[1;32mC:\\Users\\cs.ucu.edu.ua\\Anaconda3\\lib\\site-packages\\pandas\\core\\frame.py\u001b[0m in \u001b[0;36m_getitem_array\u001b[1;34m(self, key)\u001b[0m\n\u001b[0;32m   2722\u001b[0m             \u001b[0mkey\u001b[0m \u001b[1;33m=\u001b[0m \u001b[0mcheck_bool_indexer\u001b[0m\u001b[1;33m(\u001b[0m\u001b[0mself\u001b[0m\u001b[1;33m.\u001b[0m\u001b[0mindex\u001b[0m\u001b[1;33m,\u001b[0m \u001b[0mkey\u001b[0m\u001b[1;33m)\u001b[0m\u001b[1;33m\u001b[0m\u001b[0m\n\u001b[0;32m   2723\u001b[0m             \u001b[0mindexer\u001b[0m \u001b[1;33m=\u001b[0m \u001b[0mkey\u001b[0m\u001b[1;33m.\u001b[0m\u001b[0mnonzero\u001b[0m\u001b[1;33m(\u001b[0m\u001b[1;33m)\u001b[0m\u001b[1;33m[\u001b[0m\u001b[1;36m0\u001b[0m\u001b[1;33m]\u001b[0m\u001b[1;33m\u001b[0m\u001b[0m\n\u001b[1;32m-> 2724\u001b[1;33m             \u001b[1;32mreturn\u001b[0m \u001b[0mself\u001b[0m\u001b[1;33m.\u001b[0m\u001b[0m_take\u001b[0m\u001b[1;33m(\u001b[0m\u001b[0mindexer\u001b[0m\u001b[1;33m,\u001b[0m \u001b[0maxis\u001b[0m\u001b[1;33m=\u001b[0m\u001b[1;36m0\u001b[0m\u001b[1;33m)\u001b[0m\u001b[1;33m\u001b[0m\u001b[0m\n\u001b[0m\u001b[0;32m   2725\u001b[0m         \u001b[1;32melse\u001b[0m\u001b[1;33m:\u001b[0m\u001b[1;33m\u001b[0m\u001b[0m\n\u001b[0;32m   2726\u001b[0m             \u001b[0mindexer\u001b[0m \u001b[1;33m=\u001b[0m \u001b[0mself\u001b[0m\u001b[1;33m.\u001b[0m\u001b[0mloc\u001b[0m\u001b[1;33m.\u001b[0m\u001b[0m_convert_to_indexer\u001b[0m\u001b[1;33m(\u001b[0m\u001b[0mkey\u001b[0m\u001b[1;33m,\u001b[0m \u001b[0maxis\u001b[0m\u001b[1;33m=\u001b[0m\u001b[1;36m1\u001b[0m\u001b[1;33m)\u001b[0m\u001b[1;33m\u001b[0m\u001b[0m\n",
      "\u001b[1;32mC:\\Users\\cs.ucu.edu.ua\\Anaconda3\\lib\\site-packages\\pandas\\core\\generic.py\u001b[0m in \u001b[0;36m_take\u001b[1;34m(self, indices, axis, is_copy)\u001b[0m\n\u001b[0;32m   2787\u001b[0m         new_data = self._data.take(indices,\n\u001b[0;32m   2788\u001b[0m                                    \u001b[0maxis\u001b[0m\u001b[1;33m=\u001b[0m\u001b[0mself\u001b[0m\u001b[1;33m.\u001b[0m\u001b[0m_get_block_manager_axis\u001b[0m\u001b[1;33m(\u001b[0m\u001b[0maxis\u001b[0m\u001b[1;33m)\u001b[0m\u001b[1;33m,\u001b[0m\u001b[1;33m\u001b[0m\u001b[0m\n\u001b[1;32m-> 2789\u001b[1;33m                                    verify=True)\n\u001b[0m\u001b[0;32m   2790\u001b[0m         \u001b[0mresult\u001b[0m \u001b[1;33m=\u001b[0m \u001b[0mself\u001b[0m\u001b[1;33m.\u001b[0m\u001b[0m_constructor\u001b[0m\u001b[1;33m(\u001b[0m\u001b[0mnew_data\u001b[0m\u001b[1;33m)\u001b[0m\u001b[1;33m.\u001b[0m\u001b[0m__finalize__\u001b[0m\u001b[1;33m(\u001b[0m\u001b[0mself\u001b[0m\u001b[1;33m)\u001b[0m\u001b[1;33m\u001b[0m\u001b[0m\n\u001b[0;32m   2791\u001b[0m \u001b[1;33m\u001b[0m\u001b[0m\n",
      "\u001b[1;32mC:\\Users\\cs.ucu.edu.ua\\Anaconda3\\lib\\site-packages\\pandas\\core\\internals.py\u001b[0m in \u001b[0;36mtake\u001b[1;34m(self, indexer, axis, verify, convert)\u001b[0m\n\u001b[0;32m   4537\u001b[0m         \u001b[0mnew_labels\u001b[0m \u001b[1;33m=\u001b[0m \u001b[0mself\u001b[0m\u001b[1;33m.\u001b[0m\u001b[0maxes\u001b[0m\u001b[1;33m[\u001b[0m\u001b[0maxis\u001b[0m\u001b[1;33m]\u001b[0m\u001b[1;33m.\u001b[0m\u001b[0mtake\u001b[0m\u001b[1;33m(\u001b[0m\u001b[0mindexer\u001b[0m\u001b[1;33m)\u001b[0m\u001b[1;33m\u001b[0m\u001b[0m\n\u001b[0;32m   4538\u001b[0m         return self.reindex_indexer(new_axis=new_labels, indexer=indexer,\n\u001b[1;32m-> 4539\u001b[1;33m                                     axis=axis, allow_dups=True)\n\u001b[0m\u001b[0;32m   4540\u001b[0m \u001b[1;33m\u001b[0m\u001b[0m\n\u001b[0;32m   4541\u001b[0m     \u001b[1;32mdef\u001b[0m \u001b[0mmerge\u001b[0m\u001b[1;33m(\u001b[0m\u001b[0mself\u001b[0m\u001b[1;33m,\u001b[0m \u001b[0mother\u001b[0m\u001b[1;33m,\u001b[0m \u001b[0mlsuffix\u001b[0m\u001b[1;33m=\u001b[0m\u001b[1;34m''\u001b[0m\u001b[1;33m,\u001b[0m \u001b[0mrsuffix\u001b[0m\u001b[1;33m=\u001b[0m\u001b[1;34m''\u001b[0m\u001b[1;33m)\u001b[0m\u001b[1;33m:\u001b[0m\u001b[1;33m\u001b[0m\u001b[0m\n",
      "\u001b[1;32mC:\\Users\\cs.ucu.edu.ua\\Anaconda3\\lib\\site-packages\\pandas\\core\\internals.py\u001b[0m in \u001b[0;36mreindex_indexer\u001b[1;34m(self, new_axis, indexer, axis, fill_value, allow_dups, copy)\u001b[0m\n\u001b[0;32m   4427\u001b[0m         \u001b[0mnew_axes\u001b[0m \u001b[1;33m=\u001b[0m \u001b[0mlist\u001b[0m\u001b[1;33m(\u001b[0m\u001b[0mself\u001b[0m\u001b[1;33m.\u001b[0m\u001b[0maxes\u001b[0m\u001b[1;33m)\u001b[0m\u001b[1;33m\u001b[0m\u001b[0m\n\u001b[0;32m   4428\u001b[0m         \u001b[0mnew_axes\u001b[0m\u001b[1;33m[\u001b[0m\u001b[0maxis\u001b[0m\u001b[1;33m]\u001b[0m \u001b[1;33m=\u001b[0m \u001b[0mnew_axis\u001b[0m\u001b[1;33m\u001b[0m\u001b[0m\n\u001b[1;32m-> 4429\u001b[1;33m         \u001b[1;32mreturn\u001b[0m \u001b[0mself\u001b[0m\u001b[1;33m.\u001b[0m\u001b[0m__class__\u001b[0m\u001b[1;33m(\u001b[0m\u001b[0mnew_blocks\u001b[0m\u001b[1;33m,\u001b[0m \u001b[0mnew_axes\u001b[0m\u001b[1;33m)\u001b[0m\u001b[1;33m\u001b[0m\u001b[0m\n\u001b[0m\u001b[0;32m   4430\u001b[0m \u001b[1;33m\u001b[0m\u001b[0m\n\u001b[0;32m   4431\u001b[0m     \u001b[1;32mdef\u001b[0m \u001b[0m_slice_take_blocks_ax0\u001b[0m\u001b[1;33m(\u001b[0m\u001b[0mself\u001b[0m\u001b[1;33m,\u001b[0m \u001b[0mslice_or_indexer\u001b[0m\u001b[1;33m,\u001b[0m \u001b[0mfill_tuple\u001b[0m\u001b[1;33m=\u001b[0m\u001b[1;32mNone\u001b[0m\u001b[1;33m)\u001b[0m\u001b[1;33m:\u001b[0m\u001b[1;33m\u001b[0m\u001b[0m\n",
      "\u001b[1;32mC:\\Users\\cs.ucu.edu.ua\\Anaconda3\\lib\\site-packages\\pandas\\core\\internals.py\u001b[0m in \u001b[0;36m__init__\u001b[1;34m(self, blocks, axes, do_integrity_check)\u001b[0m\n\u001b[0;32m   3284\u001b[0m         \u001b[0mself\u001b[0m\u001b[1;33m.\u001b[0m\u001b[0m_consolidate_check\u001b[0m\u001b[1;33m(\u001b[0m\u001b[1;33m)\u001b[0m\u001b[1;33m\u001b[0m\u001b[0m\n\u001b[0;32m   3285\u001b[0m \u001b[1;33m\u001b[0m\u001b[0m\n\u001b[1;32m-> 3286\u001b[1;33m         \u001b[0mself\u001b[0m\u001b[1;33m.\u001b[0m\u001b[0m_rebuild_blknos_and_blklocs\u001b[0m\u001b[1;33m(\u001b[0m\u001b[1;33m)\u001b[0m\u001b[1;33m\u001b[0m\u001b[0m\n\u001b[0m\u001b[0;32m   3287\u001b[0m \u001b[1;33m\u001b[0m\u001b[0m\n\u001b[0;32m   3288\u001b[0m     \u001b[1;32mdef\u001b[0m \u001b[0mmake_empty\u001b[0m\u001b[1;33m(\u001b[0m\u001b[0mself\u001b[0m\u001b[1;33m,\u001b[0m \u001b[0maxes\u001b[0m\u001b[1;33m=\u001b[0m\u001b[1;32mNone\u001b[0m\u001b[1;33m)\u001b[0m\u001b[1;33m:\u001b[0m\u001b[1;33m\u001b[0m\u001b[0m\n",
      "\u001b[1;32mC:\\Users\\cs.ucu.edu.ua\\Anaconda3\\lib\\site-packages\\pandas\\core\\internals.py\u001b[0m in \u001b[0;36m_rebuild_blknos_and_blklocs\u001b[1;34m(self)\u001b[0m\n\u001b[0;32m   3373\u001b[0m             \u001b[0mrl\u001b[0m \u001b[1;33m=\u001b[0m \u001b[0mblk\u001b[0m\u001b[1;33m.\u001b[0m\u001b[0mmgr_locs\u001b[0m\u001b[1;33m\u001b[0m\u001b[0m\n\u001b[0;32m   3374\u001b[0m             \u001b[0mnew_blknos\u001b[0m\u001b[1;33m[\u001b[0m\u001b[0mrl\u001b[0m\u001b[1;33m.\u001b[0m\u001b[0mindexer\u001b[0m\u001b[1;33m]\u001b[0m \u001b[1;33m=\u001b[0m \u001b[0mblkno\u001b[0m\u001b[1;33m\u001b[0m\u001b[0m\n\u001b[1;32m-> 3375\u001b[1;33m             \u001b[0mnew_blklocs\u001b[0m\u001b[1;33m[\u001b[0m\u001b[0mrl\u001b[0m\u001b[1;33m.\u001b[0m\u001b[0mindexer\u001b[0m\u001b[1;33m]\u001b[0m \u001b[1;33m=\u001b[0m \u001b[0mnp\u001b[0m\u001b[1;33m.\u001b[0m\u001b[0marange\u001b[0m\u001b[1;33m(\u001b[0m\u001b[0mlen\u001b[0m\u001b[1;33m(\u001b[0m\u001b[0mrl\u001b[0m\u001b[1;33m)\u001b[0m\u001b[1;33m)\u001b[0m\u001b[1;33m\u001b[0m\u001b[0m\n\u001b[0m\u001b[0;32m   3376\u001b[0m \u001b[1;33m\u001b[0m\u001b[0m\n\u001b[0;32m   3377\u001b[0m         \u001b[1;32mif\u001b[0m \u001b[1;33m(\u001b[0m\u001b[0mnew_blknos\u001b[0m \u001b[1;33m==\u001b[0m \u001b[1;33m-\u001b[0m\u001b[1;36m1\u001b[0m\u001b[1;33m)\u001b[0m\u001b[1;33m.\u001b[0m\u001b[0many\u001b[0m\u001b[1;33m(\u001b[0m\u001b[1;33m)\u001b[0m\u001b[1;33m:\u001b[0m\u001b[1;33m\u001b[0m\u001b[0m\n",
      "\u001b[1;31mKeyboardInterrupt\u001b[0m: "
     ]
    }
   ],
   "source": [
    "stop_code = []\n",
    "for index, row in stop_times.iterrows():\n",
    "    stop_lon.append(add_stop_info_based_on_stop_id(stop_times[\"stop_id\"][index], \"stop_code\"))"
   ]
  },
  {
   "cell_type": "code",
   "execution_count": 16,
   "metadata": {
    "collapsed": true
   },
   "outputs": [],
   "source": [
    "stop_name = []\n",
    "for index, row in stop_times.iterrows():\n",
    "    stop_name.append(add_stop_info_based_on_stop_id(stop_times[\"stop_id\"][index], \"stop_name\"))"
   ]
  },
  {
   "cell_type": "code",
   "execution_count": 17,
   "metadata": {
    "collapsed": true
   },
   "outputs": [],
   "source": [
    "stop_desc = []\n",
    "for index, row in stop_times.iterrows():\n",
    "    stop_desc.append(add_stop_info_based_on_stop_id(stop_times[\"stop_id\"][index], \"stop_desc\"))"
   ]
  },
  {
   "cell_type": "code",
   "execution_count": 18,
   "metadata": {
    "collapsed": false
   },
   "outputs": [],
   "source": [
    "stop_times[\"stop_lat\"] = stop_lat"
   ]
  },
  {
   "cell_type": "code",
   "execution_count": 19,
   "metadata": {
    "collapsed": false
   },
   "outputs": [],
   "source": [
    "stop_times[\"stop_lon\"] = stop_lon"
   ]
  },
  {
   "cell_type": "code",
   "execution_count": 20,
   "metadata": {
    "collapsed": false
   },
   "outputs": [],
   "source": [
    "stop_times[\"stop_name\"] = stop_name"
   ]
  },
  {
   "cell_type": "code",
   "execution_count": null,
   "metadata": {
    "collapsed": true
   },
   "outputs": [],
   "source": []
  },
  {
   "cell_type": "code",
   "execution_count": 21,
   "metadata": {
    "collapsed": false
   },
   "outputs": [
    {
     "name": "stdout",
     "output_type": "stream",
     "text": [
      "        Unnamed: 0   trip_id arrival_time departure_time  stop_id  \\\n",
      "0                0  1285_0_1     07:03:00       07:03:00     4722   \n",
      "1                1  1285_0_1     07:06:00       07:06:00     4723   \n",
      "2                2  1285_0_1     07:08:00       07:08:00     4724   \n",
      "3                3  1285_0_1     07:09:00       07:09:00     4725   \n",
      "4                4  1285_0_1     07:11:00       07:11:00     4703   \n",
      "5                5  1285_0_1     07:12:00       07:12:00    44814   \n",
      "6                6  1285_0_1     07:13:00       07:13:00    42806   \n",
      "7                7  1285_0_1     07:15:00       07:15:00     5118   \n",
      "8                8  1285_1_0     07:18:00       07:18:00     4850   \n",
      "9                9  1285_1_0     07:21:00       07:21:00     4682   \n",
      "10              10  1285_1_0     07:24:00       07:24:00     4683   \n",
      "11              11  1285_1_0     07:25:00       07:25:00     4945   \n",
      "12              12  1285_1_0     07:26:00       07:26:00     4730   \n",
      "13              13  1285_1_0     07:29:00       07:29:00     4731   \n",
      "14              14  1285_1_0     07:32:00       07:32:00     5022   \n",
      "15              15  1285_1_0     07:34:00       07:34:00     5023   \n",
      "16              16  1285_1_0     07:35:00       07:35:00     5024   \n",
      "17              17  1285_1_0     07:38:00       07:38:00     4835   \n",
      "18              18  1285_1_0     07:39:00       07:39:00    44235   \n",
      "19              19  1285_1_0     07:42:00       07:42:00     5011   \n",
      "20              20  1285_1_1     07:45:00       07:45:00     5162   \n",
      "21              21  1285_1_1     07:47:00       07:47:00     5012   \n",
      "22              22  1285_1_1     07:49:00       07:49:00     4841   \n",
      "23              23  1285_1_1     07:51:00       07:51:00     5019   \n",
      "24              24  1285_1_1     07:53:00       07:53:00     5020   \n",
      "25              25  1285_1_1     07:55:00       07:55:00     4722   \n",
      "26              26  1285_1_1     07:58:00       07:58:00     4723   \n",
      "27              27  1285_1_1     08:00:00       08:00:00     4724   \n",
      "28              28  1285_1_1     08:01:00       08:01:00     4725   \n",
      "29              29  1285_1_1     08:03:00       08:03:00     4703   \n",
      "...            ...       ...          ...            ...      ...   \n",
      "408009      408009  9404_6_1     20:28:00       20:28:00     4594   \n",
      "408010      408010  9404_6_1     20:31:00       20:31:00     4690   \n",
      "408011      408011  9404_6_1     20:33:00       20:33:00     4989   \n",
      "408012      408012  9404_6_1     20:35:00       20:35:00     4737   \n",
      "408013      408013  9404_6_1     20:37:00       20:37:00     4738   \n",
      "408014      408014  9404_6_1     20:39:00       20:39:00     4739   \n",
      "408015      408015  9404_6_1     20:41:00       20:41:00     4740   \n",
      "408016      408016  9404_6_1     20:44:00       20:44:00     4741   \n",
      "408017      408017  9404_7_0     20:50:00       20:50:00     4711   \n",
      "408018      408018  9404_7_0     20:52:00       20:52:00     4712   \n",
      "408019      408019  9404_7_0     20:54:00       20:54:00     4713   \n",
      "408020      408020  9404_7_0     20:56:00       20:56:00    44226   \n",
      "408021      408021  9404_7_0     20:58:00       20:58:00     4715   \n",
      "408022      408022  9404_7_0     21:00:00       21:00:00     4693   \n",
      "408023      408023  9404_7_0     21:02:00       21:02:00     4691   \n",
      "408024      408024  9404_7_0     21:04:00       21:04:00     4614   \n",
      "408025      408025  9404_7_0     21:06:00       21:06:00     4616   \n",
      "408026      408026  9404_7_0     21:08:00       21:08:00     4617   \n",
      "408027      408027  9404_7_0     21:10:00       21:10:00     4618   \n",
      "408028      408028  9404_7_0     21:12:00       21:12:00     4619   \n",
      "408029      408029  9404_7_0     21:14:00       21:14:00     5124   \n",
      "408030      408030  9404_7_0     21:16:00       21:16:00     4620   \n",
      "408031      408031  9404_7_0     21:18:00       21:18:00     4621   \n",
      "408032      408032  9404_7_0     21:20:00       21:20:00     4622   \n",
      "408033      408033  9404_7_0     21:22:00       21:22:00     4701   \n",
      "408034      408034  9404_7_0     21:24:00       21:24:00     4684   \n",
      "408035      408035  9404_7_0     21:26:00       21:26:00     4703   \n",
      "408036      408036  9404_7_0     21:28:00       21:28:00    44814   \n",
      "408037      408037  9404_7_0     21:30:00       21:30:00     4726   \n",
      "408038      408038  9404_7_0     21:33:00       21:33:00     4727   \n",
      "\n",
      "        stop_sequence  shape_dist_traveled  timepoint  route_id   stop_lat  \\\n",
      "0                   2                  NaN          1       182  49.830754   \n",
      "1                   3                  NaN          1       182  49.832488   \n",
      "2                   4                  NaN          1       182  49.833429   \n",
      "3                   5                  NaN          1       182  49.834460   \n",
      "4                   6                  NaN          1       182  49.835322   \n",
      "5                   7                  NaN          1       182  49.836104   \n",
      "6                   8                  NaN          1       182  49.835948   \n",
      "7                   9                  NaN          1       182  49.836446   \n",
      "8                  10                  NaN          1       182  49.837303   \n",
      "9                  11                  NaN          1       182  49.836457   \n",
      "10                 12                  NaN          1       182  49.835592   \n",
      "11                 13                  NaN          1       182  49.834526   \n",
      "12                 14                  NaN          1       182  49.833772   \n",
      "13                 15                  NaN          1       182  49.832547   \n",
      "14                 16                  NaN          1       182  49.830500   \n",
      "15                 17                  NaN          1       182  49.829813   \n",
      "16                 18                  NaN          1       182  49.828768   \n",
      "17                 19                  NaN          1       182  49.826792   \n",
      "18                 20                  NaN          1       182  49.826529   \n",
      "19                 21                  NaN          1       182  49.822071   \n",
      "20                 22                  NaN          1       182  49.821859   \n",
      "21                 23                  NaN          1       182  49.824799   \n",
      "22                 24                  NaN          1       182  49.827055   \n",
      "23                 25                  NaN          1       182  49.828768   \n",
      "24                 26                  NaN          1       182  49.829875   \n",
      "25                 27                  NaN          1       182  49.830754   \n",
      "26                 28                  NaN          1       182  49.832488   \n",
      "27                 29                  NaN          1       182  49.833429   \n",
      "28                 30                  NaN          1       182  49.834460   \n",
      "29                 31                  NaN          1       182  49.835322   \n",
      "...               ...                  ...        ...       ...        ...   \n",
      "408009            316                  NaN          1       106  49.802259   \n",
      "408010            317                  NaN          1       106  49.801302   \n",
      "408011            318                  NaN          1       106  49.797718   \n",
      "408012            319                  NaN          1       106  49.794106   \n",
      "408013            320                  NaN          1       106  49.791440   \n",
      "408014            321                  NaN          1       106  49.787582   \n",
      "408015            322                  NaN          1       106  49.783290   \n",
      "408016            323                  NaN          1       106  49.774232   \n",
      "408017            324                  NaN          1       106  49.774093   \n",
      "408018            325                  NaN          1       106  49.778056   \n",
      "408019            326                  NaN          1       106  49.784129   \n",
      "408020            327                  NaN          1       106  49.787325   \n",
      "408021            328                  NaN          1       106  49.792614   \n",
      "408022            329                  NaN          1       106  49.794712   \n",
      "408023            330                  NaN          1       106  49.798002   \n",
      "408024            331                  NaN          1       106  49.802078   \n",
      "408025            332                  NaN          1       106  49.803457   \n",
      "408026            333                  NaN          1       106  49.803990   \n",
      "408027            334                  NaN          1       106  49.804457   \n",
      "408028            335                  NaN          1       106  49.804745   \n",
      "408029            336                  NaN          1       106  49.805498   \n",
      "408030            337                  NaN          1       106  49.809369   \n",
      "408031            338                  NaN          1       106  49.813293   \n",
      "408032            339                  NaN          1       106  49.818646   \n",
      "408033            340                  NaN          1       106  49.830799   \n",
      "408034            341                  NaN          1       106  49.834201   \n",
      "408035            342                  NaN          1       106  49.835322   \n",
      "408036            343                  NaN          1       106  49.836104   \n",
      "408037            344                  NaN          1       106  49.837720   \n",
      "408038            345                  NaN          1       106  49.839124   \n",
      "\n",
      "         stop_lon                          stop_name  \n",
      "0       23.969164                   Мотозавод (0100)  \n",
      "1       23.979174                  Богданівка (0114)  \n",
      "2       23.984560                     Народна (0497)  \n",
      "3       23.990058              Кульпарківська (0496)  \n",
      "4       23.994924                      Скриня (0494)  \n",
      "5       23.999167         Привокзальний ринок (0749)  \n",
      "6       24.003140                  Тобілевича (0510)  \n",
      "7       24.005631              Кропивницького (0079)  \n",
      "8       24.005352              Кропивницького (0046)  \n",
      "9       23.999349         Привокзальний ринок (0110)  \n",
      "10      23.994693                      Скриня (0113)  \n",
      "11      23.989849              Кульпарківська (0095)  \n",
      "12      23.985236                     Народна (0096)  \n",
      "13      23.978514                  Богданівка (0498)  \n",
      "14      23.966787                   Мотозавод (0097)  \n",
      "15      23.962947                     Вівсяна (0098)  \n",
      "16      23.957276                    Вільхова (0099)  \n",
      "17      23.946478                   Каховська (0115)  \n",
      "18      23.941741                 Курмановича (0306)  \n",
      "19      23.936310          Станція Скнилів (0085-01)  \n",
      "20      23.936731             Станція Скнилів (0085)  \n",
      "21      23.939402                   Авіаційна (0086)  \n",
      "22      23.948951                   Каховська (0116)  \n",
      "23      23.958376                    Вільхова (0104)  \n",
      "24      23.964620                     Вівсяна (0101)  \n",
      "25      23.969164                   Мотозавод (0100)  \n",
      "26      23.979174                  Богданівка (0114)  \n",
      "27      23.984560                     Народна (0497)  \n",
      "28      23.990058              Кульпарківська (0496)  \n",
      "29      23.994924                      Скриня (0494)  \n",
      "...           ...                                ...  \n",
      "408009  24.013520                 Підстригача (0537)  \n",
      "408010  24.017626           Стрийська-Наукова (0565)  \n",
      "408011  24.016805                     Скорини (0560)  \n",
      "408012  24.016076                      Гашека (0561)  \n",
      "408013  24.015448                 Максимовича (0562)  \n",
      "408014  24.014606                  Автовокзал (0563)  \n",
      "408015  24.013817                Сокільницька (0564)  \n",
      "408016  24.013335           ТРЦ Кінг Кросс (0320-01)  \n",
      "408017  24.012718              ТРЦ Кінг Кросс (0320)  \n",
      "408018  24.014171                     Іподром (0434)  \n",
      "408019  24.014434                Сокільницька (0435)  \n",
      "408020  24.017063               Автовокзал (0433-01)  \n",
      "408021  24.015985                 Максимовича (0432)  \n",
      "408022  24.016521                      Гашека (0431)  \n",
      "408023  24.017245                     Скорини (0430)  \n",
      "408024  24.017267           Стрийська-Наукова (0553)  \n",
      "408025  24.004856                 Тролейбусна (0539)  \n",
      "408026  23.999499               Княгині Ольги (0541)  \n",
      "408027  23.994903            Центр зайнятості (0545)  \n",
      "408028  23.991767               Клуб Науковий (0549)  \n",
      "408029  23.985906                   Симоненка (0546)  \n",
      "408030  23.982758                    Щирецька (0533)  \n",
      "408031  23.984855                   Скнилівок (0534)  \n",
      "408032  23.987836                  Кульпарків (0532)  \n",
      "408033  23.990707        Кардіологічний центр (0530)  \n",
      "408034  23.990943              Кульпарківська (0529)  \n",
      "408035  23.994924                      Скриня (0494)  \n",
      "408036  23.999167         Привокзальний ринок (0749)  \n",
      "408037  24.000138           Приміський вокзал (0189)  \n",
      "408038  23.994371  Залізничний вокзал (висадка) 0083  \n",
      "\n",
      "[408039 rows x 12 columns]\n"
     ]
    }
   ],
   "source": [
    "print(stop_times)"
   ]
  },
  {
   "cell_type": "code",
   "execution_count": 22,
   "metadata": {
    "collapsed": true
   },
   "outputs": [],
   "source": [
    "stop_times[\"stop_desc\"] = stop_desc"
   ]
  },
  {
   "cell_type": "code",
   "execution_count": 23,
   "metadata": {
    "collapsed": true
   },
   "outputs": [],
   "source": [
    "routes = pd.read_csv(\"../data/lviv_static_data/routes.csv\", encoding=\"utf-8\", sep=\",\", \\\n",
    "                    header=0, low_memory=False)"
   ]
  },
  {
   "cell_type": "code",
   "execution_count": 24,
   "metadata": {
    "collapsed": true
   },
   "outputs": [],
   "source": [
    "def add_route_info_based_on_route_id(list_with_info, route_id, name_of_column_to_retrieve):\n",
    "    return list_with_info[list_with_info['route_id'] == route_id][name_of_column_to_retrieve].values[0]"
   ]
  },
  {
   "cell_type": "code",
   "execution_count": 25,
   "metadata": {
    "collapsed": true
   },
   "outputs": [],
   "source": [
    "route_short_name = []\n",
    "for index, row in stop_times.iterrows():\n",
    "    route_short_name.append(add_route_info_based_on_route_id(routes, stop_times[\"route_id\"][index], \"route_short_name\"))"
   ]
  },
  {
   "cell_type": "code",
   "execution_count": 26,
   "metadata": {
    "collapsed": true
   },
   "outputs": [],
   "source": [
    "stop_times[\"route_short_name\"] = route_short_name"
   ]
  },
  {
   "cell_type": "code",
   "execution_count": 28,
   "metadata": {
    "collapsed": true
   },
   "outputs": [],
   "source": [
    "stop_times.to_csv(\"../data/lviv_static_data/stop_times_with_position_with_routes_ids.csv\", sep=',', encoding='utf-8')"
   ]
  },
  {
   "cell_type": "code",
   "execution_count": null,
   "metadata": {
    "collapsed": true
   },
   "outputs": [],
   "source": []
  },
  {
   "cell_type": "code",
   "execution_count": 27,
   "metadata": {
    "collapsed": false
   },
   "outputs": [],
   "source": [
    "stops_with_routes = pd.read_csv(\"../data/lviv_static_data/stop_times_with_position_with_routes_ids.csv\", encoding=\"utf-8\", sep=\",\", \\\n",
    "                         header=0, low_memory=False)"
   ]
  },
  {
   "cell_type": "code",
   "execution_count": 31,
   "metadata": {
    "collapsed": false
   },
   "outputs": [],
   "source": [
    "direction_id = []\n",
    "for index, row in stops_with_routes.iterrows():\n",
    "    direction_id.append(add_trip_info_based_on_trip_id(stops_with_routes[\"trip_id\"][index], \"direction_id\"))"
   ]
  },
  {
   "cell_type": "code",
   "execution_count": 32,
   "metadata": {
    "collapsed": false
   },
   "outputs": [],
   "source": [
    "block_id = []\n",
    "for index, row in stops_with_routes.iterrows():\n",
    "    block_id.append(add_trip_info_based_on_trip_id(stops_with_routes[\"trip_id\"][index], \"block_id\"))"
   ]
  },
  {
   "cell_type": "code",
   "execution_count": 33,
   "metadata": {
    "collapsed": true
   },
   "outputs": [],
   "source": [
    "stops_with_routes[\"direction_id\"] = direction_id"
   ]
  },
  {
   "cell_type": "code",
   "execution_count": 34,
   "metadata": {
    "collapsed": true
   },
   "outputs": [],
   "source": [
    "stops_with_routes[\"block_id\"] = block_id"
   ]
  },
  {
   "cell_type": "code",
   "execution_count": 35,
   "metadata": {
    "collapsed": true
   },
   "outputs": [],
   "source": [
    "stops_with_routes.to_csv(\"../data/lviv_static_data/stop_times_with_position_with_directions_ids.csv\", sep=',', encoding='utf-8')"
   ]
  },
  {
   "cell_type": "code",
   "execution_count": null,
   "metadata": {
    "collapsed": true
   },
   "outputs": [],
   "source": []
  }
 ],
 "metadata": {
  "kernelspec": {
   "display_name": "Python 3",
   "language": "python",
   "name": "python3"
  },
  "language_info": {
   "codemirror_mode": {
    "name": "ipython",
    "version": 3
   },
   "file_extension": ".py",
   "mimetype": "text/x-python",
   "name": "python",
   "nbconvert_exporter": "python",
   "pygments_lexer": "ipython3",
   "version": "3.5.6"
  }
 },
 "nbformat": 4,
 "nbformat_minor": 0
}
