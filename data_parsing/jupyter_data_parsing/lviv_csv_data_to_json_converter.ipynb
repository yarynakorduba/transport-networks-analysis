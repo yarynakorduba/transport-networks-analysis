{
 "cells": [
  {
   "cell_type": "code",
   "execution_count": 3,
   "metadata": {
    "collapsed": true
   },
   "outputs": [],
   "source": [
    "import pandas as pd\n",
    "import json"
   ]
  },
  {
   "cell_type": "code",
   "execution_count": 4,
   "metadata": {
    "collapsed": false
   },
   "outputs": [],
   "source": [
    "lviv_dataset = pd.read_csv(\"../../data/lviv_static_data/lviv_final_stop_times.csv\", encoding=\"utf-8\", sep=\",\", \\\n",
    "                            header=0, low_memory=False)"
   ]
  },
  {
   "cell_type": "code",
   "execution_count": 7,
   "metadata": {
    "collapsed": true
   },
   "outputs": [],
   "source": [
    "stops = lviv_dataset[\"stop_id\"].unique()\n",
    "journeys = lviv_dataset[\"trip_id\"].unique()"
   ]
  },
  {
   "cell_type": "markdown",
   "metadata": {},
   "source": [
    "# lvivStops dataset parsing\n",
    "The final dataset will have such form:\n",
    "```\n",
    "[{\n",
    "   \"id\": <String> (stop ID),\\\n",
    "   \"label\": <String> (stop name),\n",
    "   \"connections\": <List> (adjacent stops of the current stop), \\\n",
    "   \"lat\": <Float> (stop latitude),\n",
    "   \"lon\":  <Float> (stop longitude),\n",
    "   \"routes\": <List> (the routes that are served by the stop),\n",
    "    \"stationType\": <List> (types of vehicles))  \n",
    "},...]\n",
    "\n",
    "```"
   ]
  },
  {
   "cell_type": "code",
   "execution_count": 65,
   "metadata": {
    "collapsed": true
   },
   "outputs": [],
   "source": [
    "### creating the lvivStops.dataset\n",
    "parsed_stops = dict()\n",
    "for stop in stops:\n",
    "    stop_info = lviv_dataset[lviv_dataset[\"stop_id\"] == stop]\n",
    "    stop_row_indexes = lviv_dataset.index[lviv_dataset[\"stop_id\"] == stop].tolist()\n",
    "    \n",
    "    #+++Collecting stop connections with another stops\n",
    "    connections = set()\n",
    "    for index in stop_row_indexes:\n",
    "        if index-1 in lviv_dataset.index and lviv_dataset.loc[index-1][\"trip_id\"] == stop_info[\"trip_id\"].values[0]:\n",
    "                connections.add(str(lviv_dataset.loc[index-1]['stop_id']))\n",
    "        if index+1 in lviv_dataset.index and lviv_dataset.loc[index+1][\"trip_id\"] == stop_info[\"trip_id\"].values[0]:\n",
    "            connections.add(str(lviv_dataset.loc[index+1]['stop_id']))\n",
    "\n",
    "    #+++Collecting routes\n",
    "    routes = stop_info[\"route_id\"].unique().tolist()\n",
    "    route_names = stop_info[\"route_short_name\"].unique().tolist()\n",
    "    \n",
    "    #+++Collecting station types\n",
    "    station_type = set()\n",
    "    for route in route_names:\n",
    "        if route[0] == \"А\":\n",
    "            station_type.add(\"Bus\")\n",
    "        elif route[0] == \"Н-А\": \n",
    "            station_type.add(\"Night Bus\")\n",
    "        elif route[:2] == \"Тр\":\n",
    "            station_type.add(\"Trolleybus\")\n",
    "        elif route[0] == \"Т\":\n",
    "            station_type.add(\"Tram\")\n",
    "            \n",
    "        \n",
    "    parsed_stops[str(stop_info[\"stop_id\"].values[0])] = {\n",
    "          \"id\": str(stop_info[\"stop_id\"].values[0]),\\\n",
    "          \"label\": stop_info[\"stop_name\"].values[0],\n",
    "          \"connections\": list(connections), \\\n",
    "          \"lat\": stop_info[\"stop_lat\"].values[0],\n",
    "          \"lon\":  stop_info[\"stop_lon\"].values[0],\n",
    "          \"routes\": [str(route) for route in routes],\n",
    "          \"stationType\": list(station_type)               \n",
    "          }"
   ]
  },
  {
   "cell_type": "code",
   "execution_count": 59,
   "metadata": {
    "collapsed": false
   },
   "outputs": [
    {
     "name": "stdout",
     "output_type": "stream",
     "text": [
      "<class 'list'>\n"
     ]
    }
   ],
   "source": [
    "with open(\"../../data/lviv_static_data/lvivStops.json\", \"w\") as final_file:\n",
    "    json.dump(list(parsed_stops.values()), final_file, ensure_ascii=False)"
   ]
  },
  {
   "cell_type": "markdown",
   "metadata": {},
   "source": [
    "# lvivJourneys dataset parsing\n",
    "The final dataset will have such form:\n",
    "```\n",
    "[{\n",
    "   \"id\": <String> (stop ID),\\\n",
    "   \"label\": <String> (stop name),\n",
    "   \"connections\": <List> (adjacent stops of the current stop), \\\n",
    "   \"lat\": <Float> (stop latitude),\n",
    "   \"lon\":  <Float> (stop longitude),\n",
    "   \"routes\": <List> (the routes that are served by the stop),\n",
    "    \"stationType\": <List> (types of vehicles))  \n",
    "},...]\n",
    "\n",
    "```"
   ]
  },
  {
   "cell_type": "code",
   "execution_count": null,
   "metadata": {
    "collapsed": true
   },
   "outputs": [],
   "source": []
  }
 ],
 "metadata": {
  "kernelspec": {
   "display_name": "Python 3",
   "language": "python",
   "name": "python3"
  },
  "language_info": {
   "codemirror_mode": {
    "name": "ipython",
    "version": 3
   },
   "file_extension": ".py",
   "mimetype": "text/x-python",
   "name": "python",
   "nbconvert_exporter": "python",
   "pygments_lexer": "ipython3",
   "version": "3.5.6"
  }
 },
 "nbformat": 4,
 "nbformat_minor": 0
}
