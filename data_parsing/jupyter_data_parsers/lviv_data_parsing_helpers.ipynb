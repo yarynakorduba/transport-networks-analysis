{
 "cells": [
  {
   "cell_type": "code",
   "execution_count": 2,
   "metadata": {
    "collapsed": true
   },
   "outputs": [],
   "source": [
    "import json\n",
    "import csv\n",
    "from collections import defaultdict"
   ]
  },
  {
   "cell_type": "code",
   "execution_count": 3,
   "metadata": {
    "collapsed": true
   },
   "outputs": [],
   "source": [
    "def add_routes_to_stops(file_with_stops, file_with_everything, merged_file):\n",
    "    # route, stop_type, stop_id, arrival, departure\n",
    "    result = defaultdict(list)\n",
    "    stops_merged_data = []\n",
    "    with open(file_with_stops, \"r\") as file_with_stops:\n",
    "        stops_data = file_with_stops.read()\n",
    "    stops_parsed_data = json.loads(stops_data)\n",
    "    with open(file_with_everything, 'rt') as csvfile:\n",
    "        csvreader = csv.reader(csvfile, delimiter=\",\", quotechar='\"')\n",
    "        for row in csvreader:\n",
    "            result[row[2]].append(row[0])\n",
    "    for stop in stops_parsed_data:\n",
    "        stop_copy = stop.copy()\n",
    "        stop_copy.update({\"routes\": list(set(result[stop['id']]))})\n",
    "        stops_merged_data.append(stop_copy)\n",
    "    with open(merged_file, \"w\") as final_file:\n",
    "        json.dump(stops_merged_data, final_file)\n",
    "    return stops_merged_data"
   ]
  }
 ],
 "metadata": {
  "kernelspec": {
   "display_name": "Python 3",
   "language": "python",
   "name": "python3"
  },
  "language_info": {
   "codemirror_mode": {
    "name": "ipython",
    "version": 3
   },
   "file_extension": ".py",
   "mimetype": "text/x-python",
   "name": "python",
   "nbconvert_exporter": "python",
   "pygments_lexer": "ipython3",
   "version": "3.5.6"
  }
 },
 "nbformat": 4,
 "nbformat_minor": 0
}
