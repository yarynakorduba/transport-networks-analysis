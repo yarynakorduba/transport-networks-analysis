{
 "cells": [
  {
   "cell_type": "code",
   "execution_count": 2,
   "metadata": {
    "collapsed": true
   },
   "outputs": [],
   "source": [
    "import pandas as pd"
   ]
  },
  {
   "cell_type": "code",
   "execution_count": 31,
   "metadata": {
    "collapsed": false
   },
   "outputs": [],
   "source": [
    "stop_times = pd.read_csv(\"../data/lviv_static_data/stop_times_with_route_ids.csv\", encoding=\"utf-8\", sep=\",\", \\\n",
    "                         header=0, low_memory=False)"
   ]
  },
  {
   "cell_type": "code",
   "execution_count": 4,
   "metadata": {
    "collapsed": true
   },
   "outputs": [],
   "source": [
    "trips = pd.read_csv(\"../data/lviv_static_data/trips.csv\", encoding=\"utf-8\", sep=\",\", \\\n",
    "                         header=0, low_memory=False)"
   ]
  },
  {
   "cell_type": "code",
   "execution_count": 8,
   "metadata": {
    "collapsed": false
   },
   "outputs": [],
   "source": [
    "stops = pd.read_csv(\"../data/lviv_static_data/stops.csv\", encoding=\"utf-8\", sep=\",\", \\\n",
    "                    header=0, low_memory=False)"
   ]
  },
  {
   "cell_type": "code",
   "execution_count": 13,
   "metadata": {
    "collapsed": true
   },
   "outputs": [],
   "source": [
    "routes = pd.read_csv(\"../data/lviv_static_data/routes.csv\", encoding=\"utf-8\", sep=\",\", \\\n",
    "                    header=0, low_memory=False)"
   ]
  },
  {
   "cell_type": "code",
   "execution_count": 9,
   "metadata": {
    "collapsed": false
   },
   "outputs": [],
   "source": [
    "def add_stop_info_based_on_stop_id(stop_id, name_of_column_to_retrieve):\n",
    "    return stops[stops['stop_id'] == stop_id][name_of_column_to_retrieve].values[0]"
   ]
  },
  {
   "cell_type": "code",
   "execution_count": 10,
   "metadata": {
    "collapsed": true
   },
   "outputs": [],
   "source": [
    "def add_trip_info_based_on_trip_id(trip_id, name_of_column_to_retrieve):\n",
    "    return trips[trips['trip_id'] == trip_id][name_of_column_to_retrieve].values[0]"
   ]
  },
  {
   "cell_type": "code",
   "execution_count": 19,
   "metadata": {
    "collapsed": true
   },
   "outputs": [],
   "source": [
    "def add_route_info_based_on_route_id(route_id, name_of_column_to_retrieve):\n",
    "    return routes[routes['route_id'] == route_id][name_of_column_to_retrieve].values[0]"
   ]
  },
  {
   "cell_type": "code",
   "execution_count": 12,
   "metadata": {
    "collapsed": false
   },
   "outputs": [],
   "source": [
    "stop_lat = []\n",
    "for index, row in stop_times.iterrows():\n",
    "    stop_lat.append(add_stop_info_based_on_stop_id(stop_times[\"stop_id\"][index], \"stop_lat\"))"
   ]
  },
  {
   "cell_type": "code",
   "execution_count": 29,
   "metadata": {
    "collapsed": true
   },
   "outputs": [],
   "source": [
    "stop_lon = []\n",
    "for index, row in stop_times.iterrows():\n",
    "    stop_lon.append(add_stop_info_based_on_stop_id(stop_times[\"stop_id\"][index], \"stop_lon\"))"
   ]
  },
  {
   "cell_type": "code",
   "execution_count": 16,
   "metadata": {
    "collapsed": false
   },
   "outputs": [],
   "source": [
    "stop_code = []\n",
    "for index, row in stop_times.iterrows():\n",
    "    stop_code.append(add_stop_info_based_on_stop_id(stop_times[\"stop_id\"][index], \"stop_code\"))"
   ]
  },
  {
   "cell_type": "code",
   "execution_count": 17,
   "metadata": {
    "collapsed": true
   },
   "outputs": [],
   "source": [
    "stop_name = []\n",
    "stop_desc = []\n",
    "for index, row in stop_times.iterrows():\n",
    "    stop_name.append(add_stop_info_based_on_stop_id(stop_times[\"stop_id\"][index], \"stop_name\"))\n",
    "    stop_desc.append(add_stop_info_based_on_stop_id(stop_times[\"stop_id\"][index], \"stop_desc\"))"
   ]
  },
  {
   "cell_type": "code",
   "execution_count": 21,
   "metadata": {
    "collapsed": false
   },
   "outputs": [],
   "source": [
    "route_short_name = []\n",
    "for index, row in stop_times.iterrows():\n",
    "    route_short_name.append(add_route_info_based_on_route_id(stop_times[\"route_id\"][index], \"route_short_name\"))"
   ]
  },
  {
   "cell_type": "code",
   "execution_count": 24,
   "metadata": {
    "collapsed": false
   },
   "outputs": [],
   "source": [
    "direction_id = []\n",
    "block_id = []\n",
    "for index, row in stop_times.iterrows():\n",
    "    direction_id.append(add_trip_info_based_on_trip_id(stop_times[\"trip_id\"][index], \"direction_id\"))\n",
    "    block_id.append(add_trip_info_based_on_trip_id(stop_times[\"trip_id\"][index], \"block_id\"))"
   ]
  },
  {
   "cell_type": "code",
   "execution_count": 28,
   "metadata": {
    "collapsed": false
   },
   "outputs": [
    {
     "name": "stdout",
     "output_type": "stream",
     "text": [
      "408039 408039 448744\n"
     ]
    }
   ],
   "source": [
    "print(len(stop_lat), len(stop_name), len(stop_lon))"
   ]
  },
  {
   "cell_type": "code",
   "execution_count": 33,
   "metadata": {
    "collapsed": false
   },
   "outputs": [],
   "source": [
    "stop_times[\"stop_lat\"] = stop_lat\n",
    "stop_times[\"stop_lon\"] = stop_lon\n",
    "stop_times[\"stop_name\"] = stop_name\n",
    "stop_times[\"stop_code\"] = stop_code\n",
    "stop_times[\"stop_desc\"] = stop_desc\n",
    "stop_times[\"route_short_name\"] = route_short_name\n",
    "stop_times[\"direction_id\"] = direction_id\n",
    "stop_times[\"block_id\"] = block_id"
   ]
  },
  {
   "cell_type": "code",
   "execution_count": 34,
   "metadata": {
    "collapsed": true
   },
   "outputs": [],
   "source": []
  },
  {
   "cell_type": "code",
   "execution_count": 35,
   "metadata": {
    "collapsed": false
   },
   "outputs": [],
   "source": [
    "stop_times.to_csv(\"../data/lviv_static_data/lviv_final_stop_times.csv\", sep=',', encoding='utf-8')"
   ]
  }
 ],
 "metadata": {
  "kernelspec": {
   "display_name": "Python 3",
   "language": "python",
   "name": "python3"
  },
  "language_info": {
   "codemirror_mode": {
    "name": "ipython",
    "version": 3
   },
   "file_extension": ".py",
   "mimetype": "text/x-python",
   "name": "python",
   "nbconvert_exporter": "python",
   "pygments_lexer": "ipython3",
   "version": "3.5.6"
  }
 },
 "nbformat": 4,
 "nbformat_minor": 0
}
