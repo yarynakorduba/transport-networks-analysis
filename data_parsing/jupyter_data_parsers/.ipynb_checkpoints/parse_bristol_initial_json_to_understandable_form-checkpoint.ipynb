{
 "cells": [
  {
   "cell_type": "code",
   "execution_count": 1,
   "metadata": {
    "collapsed": true
   },
   "outputs": [],
   "source": [
    "import json\n",
    "from convertbng.util import convert_bng, convert_lonlat"
   ]
  },
  {
   "cell_type": "code",
   "execution_count": 1,
   "metadata": {
    "collapsed": true
   },
   "outputs": [],
   "source": [
    "VEHICLE_TYPE = \"Bus\""
   ]
  },
  {
   "cell_type": "code",
   "execution_count": 3,
   "metadata": {
    "collapsed": false
   },
   "outputs": [
    {
     "ename": "FileNotFoundError",
     "evalue": "[Errno 2] No such file or directory: '../data/initial_data/bristolBusFullInitialDataset.json'",
     "output_type": "error",
     "traceback": [
      "\u001b[1;31m---------------------------------------------------------------------------\u001b[0m",
      "\u001b[1;31mFileNotFoundError\u001b[0m                         Traceback (most recent call last)",
      "\u001b[1;32m<ipython-input-3-4583c88566ac>\u001b[0m in \u001b[0;36m<module>\u001b[1;34m()\u001b[0m\n\u001b[1;32m----> 1\u001b[1;33m \u001b[1;32mwith\u001b[0m \u001b[0mopen\u001b[0m\u001b[1;33m(\u001b[0m\u001b[1;34m'../data/initial_data/bristol'\u001b[0m \u001b[1;33m+\u001b[0m \u001b[0mVEHICLE_TYPE\u001b[0m \u001b[1;33m+\u001b[0m\u001b[1;34m'FullInitialDataset.json'\u001b[0m\u001b[1;33m,\u001b[0m \u001b[1;34m'r'\u001b[0m\u001b[1;33m)\u001b[0m \u001b[1;32mas\u001b[0m \u001b[0mfile\u001b[0m\u001b[1;33m:\u001b[0m\u001b[1;33m\u001b[0m\u001b[0m\n\u001b[0m\u001b[0;32m      2\u001b[0m     \u001b[0mdata\u001b[0m \u001b[1;33m=\u001b[0m \u001b[0mjson\u001b[0m\u001b[1;33m.\u001b[0m\u001b[0mloads\u001b[0m\u001b[1;33m(\u001b[0m\u001b[0mfile\u001b[0m\u001b[1;33m.\u001b[0m\u001b[0mread\u001b[0m\u001b[1;33m(\u001b[0m\u001b[1;33m)\u001b[0m\u001b[1;33m)\u001b[0m\u001b[1;33m\u001b[0m\u001b[0m\n",
      "\u001b[1;31mFileNotFoundError\u001b[0m: [Errno 2] No such file or directory: '../data/initial_data/bristolBusFullInitialDataset.json'"
     ]
    }
   ],
   "source": [
    "with open('../../data/initial_data/bristol' + VEHICLE_TYPE +'FullInitialDataset.json', 'r') as file:\n",
    "    data = json.loads(file.read())  "
   ]
  },
  {
   "cell_type": "code",
   "execution_count": 9,
   "metadata": {
    "collapsed": false
   },
   "outputs": [],
   "source": [
    "def create_stops_dataset(data):\n",
    "    stops = data[\"locations\"]\n",
    "    journeys = data[\"journeys\"]\n",
    "    parsed_stops = {}\n",
    "    for stop in stops:\n",
    "        stop_gps_coords = convert_lonlat([int(stop[\"easting\"])],[int(stop[\"northing\"])])\n",
    "        parsed_stops[stop[\"location\"]] = {\n",
    "                \"id\": stop[\"location\"].strip(),\n",
    "                \"label\": stop[\"name\"],\n",
    "                \"lon\": stop_gps_coords[0][0],\n",
    "                \"lat\": stop_gps_coords[1][0],\n",
    "                \"stationType\": VEHICLE_TYPE.lower(),\n",
    "                \"routes\": [],\n",
    "                \"connections\": []\n",
    "        }\n",
    "    #classic version for adding connections in stopsData\n",
    "    for key, journey in journeys.items():\n",
    "        for stop_id in range(0, len(journey[\"stops\"])):\n",
    "            connections = []\n",
    "            stopID = parsed_stops[journey[\"stops\"][stop_id][\"location\"].strip()]\n",
    "\n",
    "            stopID[\"routes\"] =\\\n",
    "            list({*stopID[\"routes\"], journey[\"route_number\"]})\n",
    "\n",
    "            if stop_id > 0:\n",
    "                connections.append(journey[\"stops\"][stop_id-1][\"location\"])\n",
    "            if stop_id < len(journey[\"stops\"])-1:\n",
    "                connections.append(journey[\"stops\"][stop_id+1][\"location\"])\n",
    "\n",
    "            stopID[\"connections\"] =\\\n",
    "                [stop for stop in \n",
    "                list({*stopID[\"connections\"], *connections}) if lambda a: a != journey[\"stops\"][stop_id][\"location\"]]\n",
    "    return list(parsed_stops.values())"
   ]
  },
  {
   "cell_type": "code",
   "execution_count": 10,
   "metadata": {
    "collapsed": true
   },
   "outputs": [],
   "source": [
    "#classic version for creation of routesData\n",
    "def create_routes_dataset(data):\n",
    "    journeys = data[\"journeys\"]\n",
    "    parsed_routes = []\n",
    "    for key, journey in journeys.items():\n",
    "        parsed_routes.append({\n",
    "                \"id\": journey[\"route_number\"],\n",
    "                \"direction\": journey[\"route_direction\"],\n",
    "                \"routeName\": journey[\"route_number\"],\n",
    "                \"stops\": [stop[\"location\"] for stop in journey[\"stops\"]],\n",
    "                \"bankHolidays\": journey[\"bank_holidays\"]\n",
    "            })\n",
    "    return parsed_routes"
   ]
  },
  {
   "cell_type": "code",
   "execution_count": 11,
   "metadata": {
    "collapsed": false
   },
   "outputs": [],
   "source": [
    "with open('../data/bristol_parsed/bristol'+VEHICLE_TYPE+'Stops.json', 'w') as outfile:  \n",
    "    json.dump(create_stops_dataset(data), outfile)\n",
    "with open('../data/bristol_parsed/bristol'+VEHICLE_TYPE+'Routes.json', 'w') as outfile:  \n",
    "    json.dump(create_routes_dataset(data), outfile)"
   ]
  },
  {
   "cell_type": "code",
   "execution_count": null,
   "metadata": {
    "collapsed": true
   },
   "outputs": [],
   "source": []
  }
 ],
 "metadata": {
  "kernelspec": {
   "display_name": "Python 3",
   "language": "python",
   "name": "python3"
  },
  "language_info": {
   "codemirror_mode": {
    "name": "ipython",
    "version": 3
   },
   "file_extension": ".py",
   "mimetype": "text/x-python",
   "name": "python",
   "nbconvert_exporter": "python",
   "pygments_lexer": "ipython3",
   "version": "3.5.6"
  }
 },
 "nbformat": 4,
 "nbformat_minor": 0
}
