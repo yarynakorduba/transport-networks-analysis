{
 "cells": [
  {
   "cell_type": "code",
   "execution_count": null,
   "metadata": {
    "collapsed": true
   },
   "outputs": [],
   "source": [
    "import json\n",
    "import re"
   ]
  },
  {
   "cell_type": "code",
   "execution_count": null,
   "metadata": {
    "collapsed": true
   },
   "outputs": [],
   "source": [
    "def add_routes_to_stop_in_file(file_with_stops, file_with_everything):\n",
    "    with open(file_with_everything, \"r\") as file_with_everything:\n",
    "        all_data = file_with_everything.read()\n",
    "    with open(file_with_stops, \"r\") as file_with_stops:\n",
    "        stops_data = file_with_stops.read()\n",
    "    stops_parsed_data = json.loads(stops_data)\n",
    "    stops_merged_data = []\n",
    "    for stop_id in range(0, len(stops_parsed_data)):\n",
    "        pattern = r'\\bQS[A-Za-z0-9\\-^\\s ]*?Q[A-Z ]' + str(stops_parsed_data[stop_id]['id'])\n",
    "        parsed_routes = [line[37:41] for line in re.findall(pattern, all_data)]\n",
    "        print(parsed_routes)\n",
    "        stops_merged_data.append(stops_parsed_data[stop_id].update({\"routes\": parsed_routes}))\n",
    "    return stops_merged_data"
   ]
  },
  {
   "cell_type": "code",
   "execution_count": null,
   "metadata": {
    "collapsed": false
   },
   "outputs": [],
   "source": [
    "stops_merged_data = add_routes_to_stop_in_file(\"data/bristol_data.json\", \"data/bristol_BUS_output.CIF\")"
   ]
  },
  {
   "cell_type": "code",
   "execution_count": null,
   "metadata": {
    "collapsed": true
   },
   "outputs": [],
   "source": []
  }
 ],
 "metadata": {
  "kernelspec": {
   "display_name": "Python 3",
   "language": "python",
   "name": "python3"
  },
  "language_info": {
   "codemirror_mode": {
    "name": "ipython",
    "version": 3
   },
   "file_extension": ".py",
   "mimetype": "text/x-python",
   "name": "python",
   "nbconvert_exporter": "python",
   "pygments_lexer": "ipython3",
   "version": "3.5.6"
  }
 },
 "nbformat": 4,
 "nbformat_minor": 0
}
